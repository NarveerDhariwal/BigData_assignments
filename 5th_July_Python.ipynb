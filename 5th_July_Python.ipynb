{
 "cells": [
  {
   "cell_type": "code",
   "execution_count": 14,
   "id": "7be4dcbb",
   "metadata": {},
   "outputs": [
    {
     "name": "stdout",
     "output_type": "stream",
     "text": [
      "geeks\n",
      "geek\n",
      "Not Anagram\n"
     ]
    }
   ],
   "source": [
    "# Write a Python program to check if a given string is an anagram.\n",
    "\n",
    "str1 = input()\n",
    "str2 = input()\n",
    "\n",
    "# sorting the string and then doing comparision. If sorted strings are equal means Anagram else they are not in anagram\n",
    "\n",
    "if sorted(str1)==sorted(str2):\n",
    "    print(\"Strings are anagram\")\n",
    "else:\n",
    "    print(\"Not Anagram\")"
   ]
  },
  {
   "cell_type": "code",
   "execution_count": 33,
   "id": "fb7dbf98",
   "metadata": {},
   "outputs": [
    {
     "name": "stdout",
     "output_type": "stream",
     "text": [
      "Maximum value in dict: 6\n",
      "Minimum value in dict: 1\n"
     ]
    }
   ],
   "source": [
    "# Write a Python program to find the maximum and minimum values in a dictionary.\n",
    "\n",
    "def MaxMinValue(d:dict):\n",
    "    \n",
    "    # using a zip function which will create a tuple of max value with corresponding key and similarliy for min value\n",
    "    max_value = max(zip(d.values(), d.keys()))\n",
    "    min_value = min(zip(d.values(), d.keys()))\n",
    "        \n",
    "    return max_value, min_value\n",
    "\n",
    "marks = {'a':1, 'b':6, 'd':5, 'c':2}\n",
    "\n",
    "max_value, min_value = MaxMinValue(marks)\n",
    "\n",
    "# above will give tuple max_value[0] gives us maximum value and max_value[1] contains the key_name\n",
    "\n",
    "print(f\"Maximum value in dict: {max_value[0]}\")\n",
    "print(f\"Minimum value in dict: {min_value[0]}\")\n",
    "\n",
    "\n"
   ]
  },
  {
   "cell_type": "code",
   "execution_count": 38,
   "id": "8e8a9298",
   "metadata": {},
   "outputs": [
    {
     "name": "stdout",
     "output_type": "stream",
     "text": [
      "6.0\n"
     ]
    }
   ],
   "source": [
    "# Write a Python program to find the average of a list of numbers.\n",
    "\n",
    "def findAvg(nums):\n",
    "# using sum for calculating the sum of all numbers & length function to find length of nums array. Dividing to find the average\n",
    "    return sum(nums)/len(nums)\n",
    "\n",
    "nums = [2,4,6,8,10]\n",
    "result = findAvg(nums)\n",
    "\n",
    "print(round(result,2))"
   ]
  },
  {
   "cell_type": "code",
   "execution_count": 41,
   "id": "0df4231b",
   "metadata": {},
   "outputs": [
    {
     "name": "stdout",
     "output_type": "stream",
     "text": [
      "Enter a string: iNeuron\n",
      "Nrn\n"
     ]
    }
   ],
   "source": [
    "# Write a Python program to remove all vowels from a string.\n",
    "\n",
    "def removeVowels(s:str):\n",
    "    \n",
    "    #\n",
    "    vowels = ['a','e','i','o','u']\n",
    "    result = [letter for letter in s if letter.lower() not in vowels]\n",
    "    return ''.join(result)\n",
    "\n",
    "str1 = input(\"Enter a string: \")\n",
    "result = removeVowels(str1)\n",
    "\n",
    "print(result)"
   ]
  },
  {
   "cell_type": "code",
   "execution_count": 49,
   "id": "eef09e63",
   "metadata": {},
   "outputs": [
    {
     "name": "stdout",
     "output_type": "stream",
     "text": [
      "Enter the number: 10\n",
      "Factorial of 10 is 3628800\n"
     ]
    }
   ],
   "source": [
    "# Write a Python function to calculate the factorial of a number using recursion.\n",
    "\n",
    "#function definition\n",
    "def factorial(n):\n",
    "    # Base condition\n",
    "    if n==0 or n==1:\n",
    "        return 1\n",
    "    else:\n",
    "        # we are using recusion method as n * fact(n-1)\n",
    "        return n * factorial(n-1)\n",
    "    \n",
    "n = int(input(\"Enter the number: \"))\n",
    "result = factorial(n)\n",
    "\n",
    "print(f'Factorial of {n} is {result}')"
   ]
  },
  {
   "cell_type": "code",
   "execution_count": 3,
   "id": "112c7c93",
   "metadata": {},
   "outputs": [
    {
     "name": "stdout",
     "output_type": "stream",
     "text": [
      "[1, 2, 2, 3, 3, 4, 5, 5, 6, 7, 7, 8, 8, 9, 9, 10, 11, 12, 19, 322]\n"
     ]
    }
   ],
   "source": [
    "# Write a Python program to merge two unsorted lists into a single sorted list using the merge sort algorithm.\n",
    "\n",
    "# function to recursivly divide the list into 2 parts\n",
    "\n",
    "def divideMethod(arr):\n",
    "    \n",
    "    if len(arr)<=1:\n",
    "        return arr\n",
    "    \n",
    "    mid = len(arr)//2\n",
    "\n",
    "    left_half = arr[:mid]\n",
    "    right_half = arr[mid:]\n",
    "\n",
    "    left_half = divideMethod(left_half)\n",
    "    right_half = divideMethod(right_half)\n",
    "\n",
    "    return mergeMethod(left_half, right_half)\n",
    "    \n",
    "# function comparing the values got from divideMethod function and sorting it in ascending order\n",
    "    \n",
    "def mergeMethod(left, right):\n",
    "    \n",
    "    ans = []\n",
    "    i = 0\n",
    "    j = 0\n",
    "    \n",
    "    while i<len(left) and j<len(right):\n",
    "        if left[i] < right[j]:\n",
    "            ans.append(left[i])\n",
    "            i+=1\n",
    "        else:\n",
    "            ans.append(right[j])\n",
    "            j+=1\n",
    "            \n",
    "        \n",
    "    while i<len(left):\n",
    "        ans.append(left[i])\n",
    "        i+=1\n",
    "        \n",
    "    while j < len(right):\n",
    "        ans.append(right[j])\n",
    "        j+=1\n",
    "        \n",
    "    \n",
    "    return ans\n",
    "\n",
    "list1 = [3, 8, 7, 4, 2, 9, 7, 1, 5]\n",
    "list2 = [2, 9, 11, 6, 3, 8, 10, 12, 19, 322, 5]\n",
    "\n",
    "# adding both list and passing to divideMethod function\n",
    "\n",
    "result = divideMethod(list1 + list2)\n",
    "\n",
    "print(result)\n"
   ]
  },
  {
   "cell_type": "code",
   "execution_count": 9,
   "id": "fa0cdf49",
   "metadata": {},
   "outputs": [
    {
     "name": "stdout",
     "output_type": "stream",
     "text": [
      "40\n"
     ]
    }
   ],
   "source": [
    "# Write a Python program to find the GCD (Greatest Common Divisor) of two numbers.\n",
    "\n",
    "# finding the min of given number and trying to divide the big number. If it is divisble means we got our number else keep decreasing the min value by 1\n",
    "def GCD(n1, n2):\n",
    "    \n",
    "    min_num = min(n1,n2)\n",
    "    \n",
    "    while min_num:\n",
    "        if (n1 % min_num == 0) and (n2 % min_num == 0):\n",
    "            return min_num\n",
    "        else:\n",
    "            min_num-=1\n",
    "            \n",
    "num1 = 40\n",
    "num2 = 160\n",
    "\n",
    "result = GCD(num1,num2)\n",
    "\n",
    "print(result)"
   ]
  },
  {
   "cell_type": "code",
   "execution_count": 12,
   "id": "66aaa007",
   "metadata": {},
   "outputs": [
    {
     "name": "stdout",
     "output_type": "stream",
     "text": [
      "19\n"
     ]
    }
   ],
   "source": [
    "# Write a Python program to find the second-largest element in a list.\n",
    "\n",
    "#Sorting the list and getting the second last elememt from it\n",
    "\n",
    "def secondLargest(l:list):\n",
    "    if len(l)<=1:\n",
    "        return \"No Second largest exists\"\n",
    "    \n",
    "    return sorted(l)[-2]\n",
    "\n",
    "lst = [2, 9, 11, 6, 3, 8, 10, 12, 19, 322, 5]\n",
    "\n",
    "result = secondLargest(lst)\n",
    "\n",
    "print(result)"
   ]
  },
  {
   "cell_type": "code",
   "execution_count": 27,
   "id": "af5fd3b3",
   "metadata": {},
   "outputs": [
    {
     "name": "stdout",
     "output_type": "stream",
     "text": [
      "abcdefg\n"
     ]
    }
   ],
   "source": [
    "# Write a Python program to find the longest common subsequence between two strings using dynamic programming.\n",
    "\n",
    "def longestCommonString(str1, str2):\n",
    "    longest_substring = ''\n",
    "    for i in range(len(str1)):\n",
    "        for j in range(len(str2)):\n",
    "            k = 0\n",
    "            substring = ''\n",
    "            while (i + k) < len(str1) and (j + k) < len(str2) and str1[i + k] == str2[j + k]:\n",
    "                substring += str1[i+k]\n",
    "                k+=1\n",
    "                \n",
    "            if len(longest_substring) < len(substring):\n",
    "                longest_substring = substring\n",
    "    return longest_substring\n",
    "\n",
    "str1 = 'abcdefghi'\n",
    "str2 = 'mnoabcpabcdefgkytr'\n",
    "\n",
    "result = longestCommonString(str1, str2)\n",
    "\n",
    "print(result)\n",
    "                \n",
    "            "
   ]
  },
  {
   "cell_type": "code",
   "execution_count": null,
   "id": "56718a8c",
   "metadata": {},
   "outputs": [],
   "source": []
  }
 ],
 "metadata": {
  "kernelspec": {
   "display_name": "Python 3 (ipykernel)",
   "language": "python",
   "name": "python3"
  },
  "language_info": {
   "codemirror_mode": {
    "name": "ipython",
    "version": 3
   },
   "file_extension": ".py",
   "mimetype": "text/x-python",
   "name": "python",
   "nbconvert_exporter": "python",
   "pygments_lexer": "ipython3",
   "version": "3.11.3"
  }
 },
 "nbformat": 4,
 "nbformat_minor": 5
}
